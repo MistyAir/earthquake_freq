{
 "cells": [
  {
   "cell_type": "code",
   "execution_count": 1,
   "metadata": {},
   "outputs": [
    {
     "name": "stdout",
     "output_type": "stream",
     "text": [
      "[1.04, 4.7, 4.6, 1.29, 2.2, 2.01999998, 1, 2.6, 1.8, 1.3]\n"
     ]
    }
   ],
   "source": [
    "import json\n",
    "filename='1.0_day.geojson'\n",
    "with open(filename) as f:\n",
    "    all_eq_data=json.load(f)\n",
    "all_eq_dicts=all_eq_data['features']\n",
    "mags=[]\n",
    "for eq_dict in all_eq_dicts:\n",
    "    mag=eq_dict['properties']['mag']\n",
    "    mags.append(mag)\n",
    "print(mags[:10]) "
   ]
  },
  {
   "cell_type": "code",
   "execution_count": 2,
   "metadata": {},
   "outputs": [
    {
     "name": "stdout",
     "output_type": "stream",
     "text": [
      "[1.04, 4.7, 4.6, 1.29, 2.2, 2.01999998, 1, 2.6, 1.8, 1.3]\n",
      "['M 1.0 - 2 km WNW of Anza, CA', 'M 4.7 - near the coast of Ecuador']\n",
      "[-116.696167, -80.6612, -165.513, -122.8131638, -119.6389]\n",
      "[33.5644989, -2.5249, 53.5324, 38.8053322, 39.6287]\n"
     ]
    }
   ],
   "source": [
    "all_eq_dicts=all_eq_data['features']\n",
    "mags,titles,lons,lats=[],[],[],[]\n",
    "for eq_dict in all_eq_dicts:\n",
    "    mag=eq_dict['properties']['mag']\n",
    "    title=eq_dict['properties']['title']\n",
    "    lon=eq_dict['geometry']['coordinates'][0]\n",
    "    lat=eq_dict['geometry']['coordinates'][1]\n",
    "    mags.append(mag)\n",
    "    titles.append(title)\n",
    "    lons.append(lon)\n",
    "    lats.append(lat)\n",
    "print(mags[:10])\n",
    "print(titles[:2])\n",
    "print(lons[:5])\n",
    "print(lats[:5])"
   ]
  },
  {
   "cell_type": "code",
   "execution_count": 11,
   "metadata": {},
   "outputs": [
    {
     "data": {
      "application/vnd.plotly.v1+json": {
       "config": {
        "plotlyServerURL": "https://plot.ly"
       },
       "data": [
        {
         "lat": [
          33.5644989,
          -2.5249,
          53.5324,
          38.8053322,
          39.6287,
          19.1784992218018,
          35.8946667,
          63.6687,
          60.1099,
          64.7756,
          31.623,
          31.626,
          61.6087,
          61.0176,
          36.5826683,
          60.3037,
          62.3093,
          -18.1503,
          -3.9107,
          -3.8135,
          39.0394,
          53.5749,
          19.4126666666667,
          62.0639,
          55.644,
          35.9145,
          51.864,
          -3.625,
          -3.7822,
          38.8001671,
          51.8698333333333,
          31.65,
          63.1473,
          51.8711666666667,
          51.8596666666667,
          34.1178322,
          35.10557175,
          51.8673333333333,
          31.647,
          38.828167,
          19.3770008087158,
          51.8673333333333,
          51.868,
          18.0115,
          31.717,
          31.692,
          51.8578333333333,
          51.8616666666667,
          19.0926666666667,
          19.3318328857422,
          51.8761,
          19.292667388916,
          -20.6016,
          51.8745,
          57.9565,
          32.8201667,
          -9.9023,
          19.367000579834,
          63.6844,
          38.8311653,
          40.4799995,
          38.8256683,
          38.829834,
          -24.1938,
          38.8288345,
          38.7723351,
          31.712,
          29.8276,
          61.541,
          33.268,
          63.3507,
          38.8230019,
          38.8055,
          -21.9815,
          38.0003319,
          19.3118324279785,
          35.10551834,
          61.53,
          38.8334999,
          15.8426,
          35.6565,
          62.8518,
          31.658,
          38.8294983,
          38.8325005,
          38.8030014,
          59.6415,
          19.2636661529541,
          38.1221,
          61.1266,
          34.0096667,
          38.8310013,
          33.4763333,
          33.4746667,
          31.608,
          31.639,
          40.3720016,
          36.5358315,
          54.6436,
          38.7840004,
          19.3958339691162,
          31.648,
          31.643,
          31.646,
          38.828167,
          38.8284988,
          31.566,
          31.652,
          31.658,
          63.5611,
          31.633,
          31.635,
          64.7728,
          38.8326683,
          63.0751,
          32.8951667,
          35.4823333,
          28.9517,
          38.7873344,
          -17.9437,
          33.9895,
          32.308,
          38.8325005,
          -17.8935,
          40.6221657,
          31.639,
          35.9686667,
          33.485,
          19.204833984375,
          63.2305,
          31.639,
          19.3931674957275,
          38.8243332,
          -6.7912,
          33.9438333,
          32.4833333,
          25.3777,
          38.8438339,
          17.9535,
          33.8733333,
          38.8221664,
          38.5018,
          64.2326,
          38.8233337,
          33.0765,
          38.8168335,
          38.8253326,
          34.006,
          38.1886,
          -27.5104,
          38.1455,
          32.9185,
          61.0495,
          38.8251648,
          38.8250008,
          36.2518,
          38.8255005,
          38.7915001,
          38.8251648,
          62.1219,
          38.8253326
         ],
         "lon": [
          -116.696167,
          -80.6612,
          -165.513,
          -122.8131638,
          -119.6389,
          -155.475997924805,
          -118.0461667,
          -149.2243,
          -152.4573,
          -150.9882,
          -103.977,
          -103.976,
          -149.8304,
          -146.8518,
          -121.1305008,
          -143.1034,
          -148.2191,
          -172.9599,
          151.1652,
          151.1108,
          -119.1552,
          -165.4871,
          -66.0748333333333,
          -151.9925,
          -158.6256,
          -117.711,
          -177.9375,
          151.3248,
          151.2235,
          -122.8216629,
          -177.958,
          -104.462,
          -150.5803,
          -177.9665,
          -177.926833333333,
          -116.9785004,
          -95.53878784,
          -177.931833333333,
          -104.001,
          -122.8554993,
          -155.281494140625,
          -177.930166666667,
          -177.930833333333,
          -66.8065,
          -104.33,
          -104.457,
          -177.922166666667,
          -177.922666666667,
          -67.3565,
          -155.320007324219,
          -177.9255,
          -155.384674072266,
          -178.367,
          -177.931666666667,
          -154.3806,
          -115.4718333,
          123.6995,
          -155.29216003418,
          -151.5525,
          -122.8144989,
          -124.940834,
          -122.7979965,
          -122.8148346,
          -66.925,
          -122.8144989,
          -122.7389984,
          -104.298,
          138.8956,
          -149.8449,
          -116.7881667,
          -149.6896,
          -122.7998352,
          -122.8184967,
          -68.7755,
          -118.7753296,
          -155.314163208008,
          -95.55151367,
          -150.4428,
          -122.8081665,
          -89.2045,
          -117.4671667,
          -151.1113,
          -104.37,
          -122.814003,
          -122.8153305,
          -122.807663,
          -151.6801,
          -155.408004760742,
          -118.1728,
          -148.2593,
          -117.2228333,
          -122.8166656,
          -116.4516667,
          -116.4476667,
          -103.993,
          -104.013,
          -124.5569992,
          -121.1526642,
          -159.6487,
          -122.7431641,
          -155.271667480469,
          -104.004,
          -104.011,
          -104.051,
          -122.8198318,
          -122.819664,
          -103.999,
          -104.008,
          -104.01,
          -147.7119,
          -103.985,
          -103.986,
          -148.0735,
          -122.8044968,
          -148.8725,
          -115.8565,
          -117.3331667,
          142.4192,
          -122.746666,
          -178.1799,
          -116.4638333,
          -101.83,
          -122.8150024,
          168.1051,
          -124.367836,
          -104.015,
          -117.683,
          -116.4931667,
          -155.501159667969,
          -151.0036,
          -104.008,
          -155.279159545898,
          -122.802002,
          116.3591,
          -116.986,
          -115.519,
          125.8593,
          -122.8148346,
          -67.0848333333333,
          -118.2626667,
          -122.7993317,
          -119.5293,
          -147.9238,
          -122.8010025,
          -116.5523333,
          -122.7961655,
          -122.7993317,
          -117.1863333,
          -117.864,
          -63.3133,
          -118.1712,
          -116.2355,
          -148.4757,
          -122.8001633,
          -122.7996674,
          31.928,
          -122.800499,
          -122.7623367,
          -122.8001633,
          -149.1998,
          -122.7986679
         ],
         "marker": {
          "color": [
           1.04,
           4.7,
           4.6,
           1.29,
           2.2,
           2.01999998,
           1,
           2.6,
           1.8,
           1.3,
           2.3,
           2.7,
           1.6,
           2.2,
           1.45,
           1.3,
           1.7,
           4.8,
           5.2,
           5.2,
           1.9,
           4.5,
           3.36,
           1.5,
           3.2,
           1.06,
           1.35,
           5.9,
           4.9,
           1.5,
           1.27,
           2.2,
           1.9,
           1.03,
           1.08,
           1.29,
           2.32,
           2,
           1.5,
           1.29,
           2.1,
           1.18,
           1.8,
           2.42,
           2.1,
           1.9,
           1.47,
           1.2,
           3.4,
           2.04999995,
           3.5,
           1.96000004,
           4.8,
           1.31,
           2.3,
           1.24,
           5.2,
           1.76999998,
           1.7,
           1.09,
           2.8,
           1.08,
           1.05,
           4.4,
           1.43,
           1.05,
           1.9,
           4.3,
           1.7,
           1.85,
           1.7,
           1.3,
           1.07,
           4.7,
           2.12,
           1.74000001,
           2.4,
           2.4,
           1.3,
           4.2,
           1.12,
           1.8,
           1.6,
           1.46,
           1.01,
           1.04,
           2.1,
           1.94000006,
           1.2,
           1.6,
           1.03,
           1.13,
           1.54,
           1.24,
           1.7,
           1.8,
           2,
           1.35,
           4.5,
           1.3,
           2.55,
           1.5,
           2.1,
           1.7,
           1.1,
           1.46,
           1.8,
           1.6,
           1.7,
           1.8,
           2,
           1.5,
           1.2,
           1.09,
           2,
           0.95,
           1.04,
           4.9,
           1.47,
           4.5,
           1.83,
           2.7,
           1.27,
           5.5,
           1.8,
           1.6,
           1.51,
           1.3,
           1.94000006,
           1.9,
           2.2,
           2.23,
           0.97,
           4.6,
           0.99,
           1.67,
           4.6,
           1.37,
           3.02,
           1.33,
           1.34,
           1.4,
           1.4,
           2.29,
           1.15,
           1.01,
           1.2,
           1.05,
           1.4,
           4,
           1.3,
           1.35,
           1.8,
           1.09,
           1.73,
           4.2,
           1.03,
           1.87,
           1.08,
           1.8,
           2.32
          ],
          "colorbar": {
           "title": {
            "text": "Magnitude"
           }
          },
          "colorscale": [
           [
            0,
            "#440154"
           ],
           [
            0.1111111111111111,
            "#482878"
           ],
           [
            0.2222222222222222,
            "#3e4989"
           ],
           [
            0.3333333333333333,
            "#31688e"
           ],
           [
            0.4444444444444444,
            "#26828e"
           ],
           [
            0.5555555555555556,
            "#1f9e89"
           ],
           [
            0.6666666666666666,
            "#35b779"
           ],
           [
            0.7777777777777778,
            "#6ece58"
           ],
           [
            0.8888888888888888,
            "#b5de2b"
           ],
           [
            1,
            "#fde725"
           ]
          ],
          "reversescale": true,
          "size": [
           1.04,
           4.7,
           4.6,
           1.29,
           2.2,
           2.01999998,
           1,
           2.6,
           1.8,
           1.3,
           2.3,
           2.7,
           1.6,
           2.2,
           1.45,
           1.3,
           1.7,
           4.8,
           5.2,
           5.2,
           1.9,
           4.5,
           3.36,
           1.5,
           3.2,
           1.06,
           1.35,
           5.9,
           4.9,
           1.5,
           1.27,
           2.2,
           1.9,
           1.03,
           1.08,
           1.29,
           2.32,
           2,
           1.5,
           1.29,
           2.1,
           1.18,
           1.8,
           2.42,
           2.1,
           1.9,
           1.47,
           1.2,
           3.4,
           2.04999995,
           3.5,
           1.96000004,
           4.8,
           1.31,
           2.3,
           1.24,
           5.2,
           1.76999998,
           1.7,
           1.09,
           2.8,
           1.08,
           1.05,
           4.4,
           1.43,
           1.05,
           1.9,
           4.3,
           1.7,
           1.85,
           1.7,
           1.3,
           1.07,
           4.7,
           2.12,
           1.74000001,
           2.4,
           2.4,
           1.3,
           4.2,
           1.12,
           1.8,
           1.6,
           1.46,
           1.01,
           1.04,
           2.1,
           1.94000006,
           1.2,
           1.6,
           1.03,
           1.13,
           1.54,
           1.24,
           1.7,
           1.8,
           2,
           1.35,
           4.5,
           1.3,
           2.55,
           1.5,
           2.1,
           1.7,
           1.1,
           1.46,
           1.8,
           1.6,
           1.7,
           1.8,
           2,
           1.5,
           1.2,
           1.09,
           2,
           0.95,
           1.04,
           4.9,
           1.47,
           4.5,
           1.83,
           2.7,
           1.27,
           5.5,
           1.8,
           1.6,
           1.51,
           1.3,
           1.94000006,
           1.9,
           2.2,
           2.23,
           0.97,
           4.6,
           0.99,
           1.67,
           4.6,
           1.37,
           3.02,
           1.33,
           1.34,
           1.4,
           1.4,
           2.29,
           1.15,
           1.01,
           1.2,
           1.05,
           1.4,
           4,
           1.3,
           1.35,
           1.8,
           1.09,
           1.73,
           4.2,
           1.03,
           1.87,
           1.08,
           1.8,
           2.32
          ],
          "sizemode": "diameter",
          "sizeref": 0.5
         },
         "mode": "markers",
         "text": [
          "M 1.0 - 2 km WNW of Anza, CA",
          "M 4.7 - near the coast of Ecuador",
          "M 4.6 - 69 km SSE of Akutan, Alaska",
          "M 1.3 - 6 km WNW of The Geysers, CA",
          "M 2.2 - 6 km ESE of Spanish Springs, Nevada",
          "M 2.0 - 2 km S of Pāhala, Hawaii",
          "M 1.0 - 13 km WSW of Little Lake, CA",
          "M 2.6 - 16 km WSW of Denali Park, Alaska",
          "M 1.8 - Southern Alaska",
          "M 1.3 - Central Alaska",
          "M 2.3 - 36 km WSW of Mentone, Texas",
          "M 2.7 - 36 km WSW of Mentone, Texas",
          "M 1.6 - 2 km SSW of Houston, Alaska",
          "M 2.2 - 19 km NNW of Tatitlek, Alaska",
          "M 1.5 - 6 km NNE of Pinnacles, CA",
          "M 1.3 - 126 km S of McCarthy, Alaska",
          "M 1.7 - 58 km NNE of Chickaloon, Alaska",
          "M 4.8 - Tonga region",
          "M 5.2 - New Ireland region, Papua New Guinea",
          "M 5.2 - 124 km WNW of Rabaul, Papua New Guinea",
          "M 1.9 - 5 km N of Yerington, Nevada",
          "M 4.5 - Fox Islands, Aleutian Islands, Alaska",
          "M 3.4 - 104 km N of San Juan, Puerto Rico",
          "M 1.5 - 32 km WNW of Skwentna, Alaska",
          "M 3.2 - 44 km SE of Perryville, Alaska",
          "M 1.1 - 18 km E of Little Lake, CA",
          "M 1.4 - Andreanof Islands, Aleutian Islands, Alaska",
          "M 5.9 - 112 km NW of Rabaul, Papua New Guinea",
          "M 4.9 - 114 km WNW of Rabaul, Papua New Guinea",
          "M 1.5 - 6 km WNW of The Geysers, CA",
          "M 1.3 - 91 km W of Adak, Alaska",
          "M 2.2 - western Texas",
          "M 1.9 - 72 km SE of Denali National Park, Alaska",
          "M 1.0 - 91 km W of Adak, Alaska",
          "M 1.1 - Andreanof Islands, Aleutian Islands, Alaska",
          "M 1.3 - 11 km NNE of Yucaipa, CA",
          "M 2.3 - 12 km E of Crowder, Oklahoma",
          "M 2.0 - Andreanof Islands, Aleutian Islands, Alaska",
          "M 1.5 - western Texas",
          "M 1.3 - 10 km WNW of The Geysers, CA",
          "M 2.1 - 8 km SW of Volcano, Hawaii",
          "M 1.2 - 89 km W of Adak, Alaska",
          "M 1.8 - 89 km W of Adak, Alaska",
          "M 2.4 - 1 km WSW of Guayanilla, Puerto Rico",
          "M 2.1 - 51 km S of Whites City, New Mexico",
          "M 1.9 - western Texas",
          "M 1.5 - Andreanof Islands, Aleutian Islands, Alaska",
          "M 1.2 - Andreanof Islands, Aleutian Islands, Alaska",
          "M 3.4 - 71 km NNW of San Antonio, Puerto Rico",
          "M 2.0 - Island of Hawaii, Hawaii",
          "M 3.5 - 88 km W of Adak, Alaska",
          "M 2.0 - 14 km NE of Pāhala, Hawaii",
          "M 4.8 - Fiji region",
          "M 1.3 - 89 km W of Adak, Alaska",
          "M 2.3 - 43 km N of Karluk, Alaska",
          "M 1.2 - 9 km W of Holtville, CA",
          "M 5.2 - 31 km NNE of Kupang, Indonesia",
          "M 1.8 - Island of Hawaii, Hawaii",
          "M 1.7 - 18 km NNE of Denali National Park, Alaska",
          "M 1.1 - 8 km NW of The Geysers, CA",
          "M 2.8 - 58 km WNW of Petrolia, CA",
          "M 1.1 - 6 km NW of The Geysers, CA",
          "M 1.1 - 8 km NW of The Geysers, CA",
          "M 4.4 - 61 km W of San Antonio de los Cobres, Argentina",
          "M 1.4 - 8 km NW of The Geysers, CA",
          "M 1.1 - 2 km ESE of The Geysers, CA",
          "M 1.9 - western Texas",
          "M 4.3 - Izu Islands, Japan region",
          "M 1.7 - 6 km ENE of Big Lake, Alaska",
          "M 1.9 - 4 km NW of Lake Henshaw, CA",
          "M 1.7 - 37 km W of Cantwell, Alaska",
          "M 1.3 - 6 km NW of The Geysers, CA",
          "M 1.1 - 6 km WNW of The Geysers, CA",
          "M 4.7 - 54 km NNE of Calama, Chile",
          "M 2.1 - 31 km E of Lee Vining, CA",
          "M 1.7 - 16 km SSW of Volcano, Hawaii",
          "M 2.4 - 10 km E of Crowder, Oklahoma",
          "M 2.4 - Southern Alaska",
          "M 1.3 - 8 km W of Cobb, CA",
          "M 4.2 - 36 km NNE of El Estor, Guatemala",
          "M 1.1 - 14 km SSW of Searles Valley, CA",
          "M 1.8 - Central Alaska",
          "M 1.6 - 57 km S of Whites City, New Mexico",
          "M 1.5 - 8 km NW of The Geysers, CA",
          "M 1.0 - 8 km NW of The Geysers, CA",
          "M 1.0 - 5 km WNW of The Geysers, CA",
          "M 2.1 - Kenai Peninsula, Alaska",
          "M 1.9 - Island of Hawaii, Hawaii",
          "M 1.2 - 30 km S of Mina, Nevada",
          "M 1.6 - Southern Alaska",
          "M 1.0 - 6 km SE of Loma Linda, CA",
          "M 1.1 - 8 km NW of The Geysers, CA",
          "M 1.5 - 22 km ESE of Anza, CA",
          "M 1.2 - 23 km ESE of Anza, CA",
          "M 1.7 - 37 km NNW of Toyah, Texas",
          "M 1.8 - 39 km W of Mentone, Texas",
          "M 2.0 - 24 km WNW of Petrolia, CA",
          "M 1.4 - 1 km WNW of Pinnacles, CA",
          "M 4.5 - 94 km SE of Sand Point, Alaska",
          "M 1.3 - 1 km ENE of The Geysers, CA",
          "M 2.6 - 6 km SW of Volcano, Hawaii",
          "M 1.5 - 38 km W of Mentone, Texas",
          "M 2.1 - 39 km W of Mentone, Texas",
          "M 1.7 - 43 km W of Mentone, Texas",
          "M 1.1 - 8 km NW of The Geysers, CA",
          "M 1.5 - 8 km NW of The Geysers, CA",
          "M 1.8 - 34 km NW of Toyah, Texas",
          "M 1.6 - 39 km W of Mentone, Texas",
          "M 1.7 - 39 km W of Mentone, Texas",
          "M 1.8 - 62 km ESE of Denali Park, Alaska",
          "M 2.0 - 37 km WSW of Mentone, Texas",
          "M 1.5 - western Texas",
          "M 1.2 - Central Alaska",
          "M 1.1 - 7 km W of Cobb, CA",
          "M 2.0 - Central Alaska",
          "M 1.0 - 22 km NE of Ocotillo, CA",
          "M 1.0 - 30 km ENE of Johannesburg, CA",
          "M 4.9 - Bonin Islands, Japan region",
          "M 1.5 - 1 km NE of The Geysers, CA",
          "M 4.5 - 265 km E of Levuka, Fiji",
          "M 1.8 - 5 km NE of Desert Hot Springs, CA",
          "M 2.7 - 20 km N of Stanton, Texas",
          "M 1.3 - 8 km NW of The Geysers, CA",
          "M 5.5 - 28 km SW of Port-Vila, Vanuatu",
          "M 1.8 - 10 km WNW of Ferndale, CA",
          "M 1.6 - 40 km W of Mentone, Texas",
          "M 1.5 - 20 km E of Little Lake, CA",
          "M 1.3 - 18 km ESE of Anza, CA",
          "M 1.9 - 2 km W of Pāhala, Hawaii",
          "M 1.9 - 49 km SE of Denali National Park, Alaska",
          "M 2.2 - 39 km W of Mentone, Texas",
          "M 2.2 - 7 km SW of Volcano, Hawaii",
          "M 1.0 - 7 km NW of The Geysers, CA",
          "M 4.6 - 175 km NNE of Gili Trawangan, Indonesia",
          "M 1.0 - 2 km NNW of Beaumont, CA",
          "M 1.7 - 12 km SSE of Progreso, B.C., MX",
          "M 4.6 - 84 km NE of Hirara, Japan",
          "M 1.4 - 8 km WNW of Cobb, CA",
          "M 3.0 - Puerto Rico region",
          "M 1.3 - 5 km ESE of Gardena, CA",
          "M 1.3 - 6 km NW of The Geysers, CA",
          "M 1.4 - 4 km WSW of Walker, California",
          "M 1.4 - Central Alaska",
          "M 2.3 - 6 km NW of The Geysers, CA",
          "M 1.2 - 5 km E of Julian, CA",
          "M 1.0 - 6 km NW of The Geysers, CA",
          "M 1.2 - 6 km NW of The Geysers, CA",
          "M 1.1 - 6 km S of Redlands, CA",
          "M 1.4 - 30 km SE of Mina, Nevada",
          "M 4.0 - 48 km NNE of Suncho Corral, Argentina",
          "M 1.3 - 27 km SSW of Mina, Nevada",
          "M 1.4 - 27 km SSW of Ocotillo Wells, CA",
          "M 1.8 - 32 km NNE of Whittier, Alaska",
          "M 1.1 - 6 km NW of The Geysers, CA",
          "M 1.7 - 6 km NW of The Geysers, CA",
          "M 4.2 - 30 km SSW of Mahmutlar, Turkey",
          "M 1.0 - 7 km NW of The Geysers, CA",
          "M 1.9 - 2 km NNW of The Geysers, CA",
          "M 1.1 - 6 km NW of The Geysers, CA",
          "M 1.8 - 34 km E of Susitna North, Alaska",
          "M 2.3 - 6 km NW of The Geysers, CA"
         ],
         "type": "scattergeo"
        }
       ],
       "layout": {
        "geo": {
         "countrycolor": "gray",
         "lakecolor": "lightblue",
         "landcolor": "lightgray",
         "oceancolor": "lightblue",
         "resolution": 110,
         "rivercolor": "lightblue",
         "showcountries": true,
         "showlakes": true,
         "showland": true,
         "showocean": true,
         "showrivers": true,
         "visible": true
        },
        "height": 800,
        "template": {
         "data": {
          "bar": [
           {
            "error_x": {
             "color": "#2a3f5f"
            },
            "error_y": {
             "color": "#2a3f5f"
            },
            "marker": {
             "line": {
              "color": "#E5ECF6",
              "width": 0.5
             },
             "pattern": {
              "fillmode": "overlay",
              "size": 10,
              "solidity": 0.2
             }
            },
            "type": "bar"
           }
          ],
          "barpolar": [
           {
            "marker": {
             "line": {
              "color": "#E5ECF6",
              "width": 0.5
             },
             "pattern": {
              "fillmode": "overlay",
              "size": 10,
              "solidity": 0.2
             }
            },
            "type": "barpolar"
           }
          ],
          "carpet": [
           {
            "aaxis": {
             "endlinecolor": "#2a3f5f",
             "gridcolor": "white",
             "linecolor": "white",
             "minorgridcolor": "white",
             "startlinecolor": "#2a3f5f"
            },
            "baxis": {
             "endlinecolor": "#2a3f5f",
             "gridcolor": "white",
             "linecolor": "white",
             "minorgridcolor": "white",
             "startlinecolor": "#2a3f5f"
            },
            "type": "carpet"
           }
          ],
          "choropleth": [
           {
            "colorbar": {
             "outlinewidth": 0,
             "ticks": ""
            },
            "type": "choropleth"
           }
          ],
          "contour": [
           {
            "colorbar": {
             "outlinewidth": 0,
             "ticks": ""
            },
            "colorscale": [
             [
              0,
              "#0d0887"
             ],
             [
              0.1111111111111111,
              "#46039f"
             ],
             [
              0.2222222222222222,
              "#7201a8"
             ],
             [
              0.3333333333333333,
              "#9c179e"
             ],
             [
              0.4444444444444444,
              "#bd3786"
             ],
             [
              0.5555555555555556,
              "#d8576b"
             ],
             [
              0.6666666666666666,
              "#ed7953"
             ],
             [
              0.7777777777777778,
              "#fb9f3a"
             ],
             [
              0.8888888888888888,
              "#fdca26"
             ],
             [
              1,
              "#f0f921"
             ]
            ],
            "type": "contour"
           }
          ],
          "contourcarpet": [
           {
            "colorbar": {
             "outlinewidth": 0,
             "ticks": ""
            },
            "type": "contourcarpet"
           }
          ],
          "heatmap": [
           {
            "colorbar": {
             "outlinewidth": 0,
             "ticks": ""
            },
            "colorscale": [
             [
              0,
              "#0d0887"
             ],
             [
              0.1111111111111111,
              "#46039f"
             ],
             [
              0.2222222222222222,
              "#7201a8"
             ],
             [
              0.3333333333333333,
              "#9c179e"
             ],
             [
              0.4444444444444444,
              "#bd3786"
             ],
             [
              0.5555555555555556,
              "#d8576b"
             ],
             [
              0.6666666666666666,
              "#ed7953"
             ],
             [
              0.7777777777777778,
              "#fb9f3a"
             ],
             [
              0.8888888888888888,
              "#fdca26"
             ],
             [
              1,
              "#f0f921"
             ]
            ],
            "type": "heatmap"
           }
          ],
          "heatmapgl": [
           {
            "colorbar": {
             "outlinewidth": 0,
             "ticks": ""
            },
            "colorscale": [
             [
              0,
              "#0d0887"
             ],
             [
              0.1111111111111111,
              "#46039f"
             ],
             [
              0.2222222222222222,
              "#7201a8"
             ],
             [
              0.3333333333333333,
              "#9c179e"
             ],
             [
              0.4444444444444444,
              "#bd3786"
             ],
             [
              0.5555555555555556,
              "#d8576b"
             ],
             [
              0.6666666666666666,
              "#ed7953"
             ],
             [
              0.7777777777777778,
              "#fb9f3a"
             ],
             [
              0.8888888888888888,
              "#fdca26"
             ],
             [
              1,
              "#f0f921"
             ]
            ],
            "type": "heatmapgl"
           }
          ],
          "histogram": [
           {
            "marker": {
             "pattern": {
              "fillmode": "overlay",
              "size": 10,
              "solidity": 0.2
             }
            },
            "type": "histogram"
           }
          ],
          "histogram2d": [
           {
            "colorbar": {
             "outlinewidth": 0,
             "ticks": ""
            },
            "colorscale": [
             [
              0,
              "#0d0887"
             ],
             [
              0.1111111111111111,
              "#46039f"
             ],
             [
              0.2222222222222222,
              "#7201a8"
             ],
             [
              0.3333333333333333,
              "#9c179e"
             ],
             [
              0.4444444444444444,
              "#bd3786"
             ],
             [
              0.5555555555555556,
              "#d8576b"
             ],
             [
              0.6666666666666666,
              "#ed7953"
             ],
             [
              0.7777777777777778,
              "#fb9f3a"
             ],
             [
              0.8888888888888888,
              "#fdca26"
             ],
             [
              1,
              "#f0f921"
             ]
            ],
            "type": "histogram2d"
           }
          ],
          "histogram2dcontour": [
           {
            "colorbar": {
             "outlinewidth": 0,
             "ticks": ""
            },
            "colorscale": [
             [
              0,
              "#0d0887"
             ],
             [
              0.1111111111111111,
              "#46039f"
             ],
             [
              0.2222222222222222,
              "#7201a8"
             ],
             [
              0.3333333333333333,
              "#9c179e"
             ],
             [
              0.4444444444444444,
              "#bd3786"
             ],
             [
              0.5555555555555556,
              "#d8576b"
             ],
             [
              0.6666666666666666,
              "#ed7953"
             ],
             [
              0.7777777777777778,
              "#fb9f3a"
             ],
             [
              0.8888888888888888,
              "#fdca26"
             ],
             [
              1,
              "#f0f921"
             ]
            ],
            "type": "histogram2dcontour"
           }
          ],
          "mesh3d": [
           {
            "colorbar": {
             "outlinewidth": 0,
             "ticks": ""
            },
            "type": "mesh3d"
           }
          ],
          "parcoords": [
           {
            "line": {
             "colorbar": {
              "outlinewidth": 0,
              "ticks": ""
             }
            },
            "type": "parcoords"
           }
          ],
          "pie": [
           {
            "automargin": true,
            "type": "pie"
           }
          ],
          "scatter": [
           {
            "fillpattern": {
             "fillmode": "overlay",
             "size": 10,
             "solidity": 0.2
            },
            "type": "scatter"
           }
          ],
          "scatter3d": [
           {
            "line": {
             "colorbar": {
              "outlinewidth": 0,
              "ticks": ""
             }
            },
            "marker": {
             "colorbar": {
              "outlinewidth": 0,
              "ticks": ""
             }
            },
            "type": "scatter3d"
           }
          ],
          "scattercarpet": [
           {
            "marker": {
             "colorbar": {
              "outlinewidth": 0,
              "ticks": ""
             }
            },
            "type": "scattercarpet"
           }
          ],
          "scattergeo": [
           {
            "marker": {
             "colorbar": {
              "outlinewidth": 0,
              "ticks": ""
             }
            },
            "type": "scattergeo"
           }
          ],
          "scattergl": [
           {
            "marker": {
             "colorbar": {
              "outlinewidth": 0,
              "ticks": ""
             }
            },
            "type": "scattergl"
           }
          ],
          "scattermapbox": [
           {
            "marker": {
             "colorbar": {
              "outlinewidth": 0,
              "ticks": ""
             }
            },
            "type": "scattermapbox"
           }
          ],
          "scatterpolar": [
           {
            "marker": {
             "colorbar": {
              "outlinewidth": 0,
              "ticks": ""
             }
            },
            "type": "scatterpolar"
           }
          ],
          "scatterpolargl": [
           {
            "marker": {
             "colorbar": {
              "outlinewidth": 0,
              "ticks": ""
             }
            },
            "type": "scatterpolargl"
           }
          ],
          "scatterternary": [
           {
            "marker": {
             "colorbar": {
              "outlinewidth": 0,
              "ticks": ""
             }
            },
            "type": "scatterternary"
           }
          ],
          "surface": [
           {
            "colorbar": {
             "outlinewidth": 0,
             "ticks": ""
            },
            "colorscale": [
             [
              0,
              "#0d0887"
             ],
             [
              0.1111111111111111,
              "#46039f"
             ],
             [
              0.2222222222222222,
              "#7201a8"
             ],
             [
              0.3333333333333333,
              "#9c179e"
             ],
             [
              0.4444444444444444,
              "#bd3786"
             ],
             [
              0.5555555555555556,
              "#d8576b"
             ],
             [
              0.6666666666666666,
              "#ed7953"
             ],
             [
              0.7777777777777778,
              "#fb9f3a"
             ],
             [
              0.8888888888888888,
              "#fdca26"
             ],
             [
              1,
              "#f0f921"
             ]
            ],
            "type": "surface"
           }
          ],
          "table": [
           {
            "cells": {
             "fill": {
              "color": "#EBF0F8"
             },
             "line": {
              "color": "white"
             }
            },
            "header": {
             "fill": {
              "color": "#C8D4E3"
             },
             "line": {
              "color": "white"
             }
            },
            "type": "table"
           }
          ]
         },
         "layout": {
          "annotationdefaults": {
           "arrowcolor": "#2a3f5f",
           "arrowhead": 0,
           "arrowwidth": 1
          },
          "autotypenumbers": "strict",
          "coloraxis": {
           "colorbar": {
            "outlinewidth": 0,
            "ticks": ""
           }
          },
          "colorscale": {
           "diverging": [
            [
             0,
             "#8e0152"
            ],
            [
             0.1,
             "#c51b7d"
            ],
            [
             0.2,
             "#de77ae"
            ],
            [
             0.3,
             "#f1b6da"
            ],
            [
             0.4,
             "#fde0ef"
            ],
            [
             0.5,
             "#f7f7f7"
            ],
            [
             0.6,
             "#e6f5d0"
            ],
            [
             0.7,
             "#b8e186"
            ],
            [
             0.8,
             "#7fbc41"
            ],
            [
             0.9,
             "#4d9221"
            ],
            [
             1,
             "#276419"
            ]
           ],
           "sequential": [
            [
             0,
             "#0d0887"
            ],
            [
             0.1111111111111111,
             "#46039f"
            ],
            [
             0.2222222222222222,
             "#7201a8"
            ],
            [
             0.3333333333333333,
             "#9c179e"
            ],
            [
             0.4444444444444444,
             "#bd3786"
            ],
            [
             0.5555555555555556,
             "#d8576b"
            ],
            [
             0.6666666666666666,
             "#ed7953"
            ],
            [
             0.7777777777777778,
             "#fb9f3a"
            ],
            [
             0.8888888888888888,
             "#fdca26"
            ],
            [
             1,
             "#f0f921"
            ]
           ],
           "sequentialminus": [
            [
             0,
             "#0d0887"
            ],
            [
             0.1111111111111111,
             "#46039f"
            ],
            [
             0.2222222222222222,
             "#7201a8"
            ],
            [
             0.3333333333333333,
             "#9c179e"
            ],
            [
             0.4444444444444444,
             "#bd3786"
            ],
            [
             0.5555555555555556,
             "#d8576b"
            ],
            [
             0.6666666666666666,
             "#ed7953"
            ],
            [
             0.7777777777777778,
             "#fb9f3a"
            ],
            [
             0.8888888888888888,
             "#fdca26"
            ],
            [
             1,
             "#f0f921"
            ]
           ]
          },
          "colorway": [
           "#636efa",
           "#EF553B",
           "#00cc96",
           "#ab63fa",
           "#FFA15A",
           "#19d3f3",
           "#FF6692",
           "#B6E880",
           "#FF97FF",
           "#FECB52"
          ],
          "font": {
           "color": "#2a3f5f"
          },
          "geo": {
           "bgcolor": "white",
           "lakecolor": "white",
           "landcolor": "#E5ECF6",
           "showlakes": true,
           "showland": true,
           "subunitcolor": "white"
          },
          "hoverlabel": {
           "align": "left"
          },
          "hovermode": "closest",
          "mapbox": {
           "style": "light"
          },
          "paper_bgcolor": "white",
          "plot_bgcolor": "#E5ECF6",
          "polar": {
           "angularaxis": {
            "gridcolor": "white",
            "linecolor": "white",
            "ticks": ""
           },
           "bgcolor": "#E5ECF6",
           "radialaxis": {
            "gridcolor": "white",
            "linecolor": "white",
            "ticks": ""
           }
          },
          "scene": {
           "xaxis": {
            "backgroundcolor": "#E5ECF6",
            "gridcolor": "white",
            "gridwidth": 2,
            "linecolor": "white",
            "showbackground": true,
            "ticks": "",
            "zerolinecolor": "white"
           },
           "yaxis": {
            "backgroundcolor": "#E5ECF6",
            "gridcolor": "white",
            "gridwidth": 2,
            "linecolor": "white",
            "showbackground": true,
            "ticks": "",
            "zerolinecolor": "white"
           },
           "zaxis": {
            "backgroundcolor": "#E5ECF6",
            "gridcolor": "white",
            "gridwidth": 2,
            "linecolor": "white",
            "showbackground": true,
            "ticks": "",
            "zerolinecolor": "white"
           }
          },
          "shapedefaults": {
           "line": {
            "color": "#2a3f5f"
           }
          },
          "ternary": {
           "aaxis": {
            "gridcolor": "white",
            "linecolor": "white",
            "ticks": ""
           },
           "baxis": {
            "gridcolor": "white",
            "linecolor": "white",
            "ticks": ""
           },
           "bgcolor": "#E5ECF6",
           "caxis": {
            "gridcolor": "white",
            "linecolor": "white",
            "ticks": ""
           }
          },
          "title": {
           "x": 0.05
          },
          "xaxis": {
           "automargin": true,
           "gridcolor": "white",
           "linecolor": "white",
           "ticks": "",
           "title": {
            "standoff": 15
           },
           "zerolinecolor": "white",
           "zerolinewidth": 2
          },
          "yaxis": {
           "automargin": true,
           "gridcolor": "white",
           "linecolor": "white",
           "ticks": "",
           "title": {
            "standoff": 15
           },
           "zerolinecolor": "white",
           "zerolinewidth": 2
          }
         }
        },
        "title": {
         "text": "Global Earthquake Scatter Plot"
        },
        "width": 800
       }
      }
     },
     "metadata": {},
     "output_type": "display_data"
    }
   ],
   "source": [
    "import pandas as pd   \n",
    "data=pd.DataFrame(\n",
    "    data=zip(lons,lats,titles,mags),columns=['经度','纬度','位置','震级']\n",
    ")\n",
    "data.head()\n",
    "#绘制散点图\n",
    "import plotly.express as px\n",
    "\n",
    "import plotly.graph_objects as go\n",
    "\n",
    "fig = go.Figure()\n",
    "\n",
    "# Add scatter plot\n",
    "fig.add_scattergeo(\n",
    "    lat=lats,\n",
    "    lon=lons,\n",
    "    text=titles,\n",
    "    mode='markers',\n",
    "    marker=dict(\n",
    "        size=mags,\n",
    "        sizemode='diameter',\n",
    "        sizeref=0.5,\n",
    "        color=mags,\n",
    "        colorscale='Viridis',\n",
    "        reversescale=True,\n",
    "        colorbar=dict(title='Magnitude'),\n",
    "    ),\n",
    ")\n",
    "\n",
    "# Add world map layer\n",
    "fig.update_geos(\n",
    "    visible=True,\n",
    "    resolution=110,\n",
    "    showcountries=True,\n",
    "    countrycolor='gray',\n",
    "    showland=True,\n",
    "    landcolor='lightgray',\n",
    "    showocean=True,\n",
    "    oceancolor='lightblue',\n",
    "    showlakes=True,\n",
    "    lakecolor='lightblue',\n",
    "    showrivers=True,\n",
    "    rivercolor='lightblue',\n",
    ")\n",
    "\n",
    "# Set layout\n",
    "fig.update_layout(\n",
    "    title=\"Global Earthquake Scatter Plot\",\n",
    "    width=800,\n",
    "    height=800,\n",
    ")\n",
    "\n",
    "# Save the plot as HTML file and display it\n",
    "fig.write_html('global_earthquake.html')\n",
    "fig.show()\n"
   ]
  },
  {
   "cell_type": "code",
   "execution_count": null,
   "metadata": {},
   "outputs": [],
   "source": []
  }
 ],
 "metadata": {
  "kernelspec": {
   "display_name": "Python 3",
   "language": "python",
   "name": "python3"
  },
  "language_info": {
   "codemirror_mode": {
    "name": "ipython",
    "version": 3
   },
   "file_extension": ".py",
   "mimetype": "text/x-python",
   "name": "python",
   "nbconvert_exporter": "python",
   "pygments_lexer": "ipython3",
   "version": "3.11.5"
  }
 },
 "nbformat": 4,
 "nbformat_minor": 4
}
