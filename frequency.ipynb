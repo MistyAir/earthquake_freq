{
 "cells": [
  {
   "cell_type": "markdown",
   "metadata": {},
   "source": [
    "# Frequency by month"
   ]
  },
  {
   "cell_type": "code",
   "execution_count": 2,
   "metadata": {},
   "outputs": [
    {
     "data": {
      "text/html": [
       "<div>\n",
       "<style scoped>\n",
       "    .dataframe tbody tr th:only-of-type {\n",
       "        vertical-align: middle;\n",
       "    }\n",
       "\n",
       "    .dataframe tbody tr th {\n",
       "        vertical-align: top;\n",
       "    }\n",
       "\n",
       "    .dataframe thead th {\n",
       "        text-align: right;\n",
       "    }\n",
       "</style>\n",
       "<table border=\"1\" class=\"dataframe\">\n",
       "  <thead>\n",
       "    <tr style=\"text-align: right;\">\n",
       "      <th></th>\n",
       "      <th>time</th>\n",
       "      <th>latitude</th>\n",
       "      <th>longitude</th>\n",
       "      <th>depth</th>\n",
       "      <th>mag</th>\n",
       "      <th>magType</th>\n",
       "      <th>nst</th>\n",
       "      <th>gap</th>\n",
       "      <th>dmin</th>\n",
       "      <th>rms</th>\n",
       "      <th>...</th>\n",
       "      <th>updated</th>\n",
       "      <th>place</th>\n",
       "      <th>type</th>\n",
       "      <th>horizontalError</th>\n",
       "      <th>depthError</th>\n",
       "      <th>magError</th>\n",
       "      <th>magNst</th>\n",
       "      <th>status</th>\n",
       "      <th>locationSource</th>\n",
       "      <th>magSource</th>\n",
       "    </tr>\n",
       "  </thead>\n",
       "  <tbody>\n",
       "    <tr>\n",
       "      <th>0</th>\n",
       "      <td>1900-04-09T14:00:00.000Z</td>\n",
       "      <td>41.40</td>\n",
       "      <td>-81.90</td>\n",
       "      <td>NaN</td>\n",
       "      <td>3.40</td>\n",
       "      <td>fa</td>\n",
       "      <td>NaN</td>\n",
       "      <td>NaN</td>\n",
       "      <td>NaN</td>\n",
       "      <td>NaN</td>\n",
       "      <td>...</td>\n",
       "      <td>2018-06-04T20:43:44.000Z</td>\n",
       "      <td>2 km SE of North Olmsted, Ohio</td>\n",
       "      <td>earthquake</td>\n",
       "      <td>NaN</td>\n",
       "      <td>NaN</td>\n",
       "      <td>NaN</td>\n",
       "      <td>NaN</td>\n",
       "      <td>reviewed</td>\n",
       "      <td>ushis</td>\n",
       "      <td>bar</td>\n",
       "    </tr>\n",
       "    <tr>\n",
       "      <th>1</th>\n",
       "      <td>1900-04-30T22:41:14.000Z</td>\n",
       "      <td>36.90</td>\n",
       "      <td>-121.60</td>\n",
       "      <td>NaN</td>\n",
       "      <td>4.50</td>\n",
       "      <td>ml</td>\n",
       "      <td>NaN</td>\n",
       "      <td>NaN</td>\n",
       "      <td>NaN</td>\n",
       "      <td>NaN</td>\n",
       "      <td>...</td>\n",
       "      <td>2018-06-04T20:43:44.000Z</td>\n",
       "      <td>4 km ENE of Aromas, California</td>\n",
       "      <td>earthquake</td>\n",
       "      <td>NaN</td>\n",
       "      <td>NaN</td>\n",
       "      <td>NaN</td>\n",
       "      <td>NaN</td>\n",
       "      <td>reviewed</td>\n",
       "      <td>ushis</td>\n",
       "      <td>cdmg</td>\n",
       "    </tr>\n",
       "    <tr>\n",
       "      <th>2</th>\n",
       "      <td>1900-10-09T12:25:00.000Z</td>\n",
       "      <td>57.09</td>\n",
       "      <td>-153.48</td>\n",
       "      <td>NaN</td>\n",
       "      <td>7.86</td>\n",
       "      <td>mw</td>\n",
       "      <td>NaN</td>\n",
       "      <td>NaN</td>\n",
       "      <td>NaN</td>\n",
       "      <td>NaN</td>\n",
       "      <td>...</td>\n",
       "      <td>2022-05-09T14:44:17.838Z</td>\n",
       "      <td>16 km SW of Old Harbor, Alaska</td>\n",
       "      <td>earthquake</td>\n",
       "      <td>NaN</td>\n",
       "      <td>NaN</td>\n",
       "      <td>NaN</td>\n",
       "      <td>NaN</td>\n",
       "      <td>reviewed</td>\n",
       "      <td>ushis</td>\n",
       "      <td>pt</td>\n",
       "    </tr>\n",
       "    <tr>\n",
       "      <th>3</th>\n",
       "      <td>1901-03-03T07:45:00.000Z</td>\n",
       "      <td>36.00</td>\n",
       "      <td>-120.50</td>\n",
       "      <td>NaN</td>\n",
       "      <td>6.40</td>\n",
       "      <td>ms</td>\n",
       "      <td>NaN</td>\n",
       "      <td>NaN</td>\n",
       "      <td>NaN</td>\n",
       "      <td>NaN</td>\n",
       "      <td>...</td>\n",
       "      <td>2018-06-04T20:43:44.000Z</td>\n",
       "      <td>12 km NNW of Parkfield, California</td>\n",
       "      <td>earthquake</td>\n",
       "      <td>NaN</td>\n",
       "      <td>NaN</td>\n",
       "      <td>NaN</td>\n",
       "      <td>NaN</td>\n",
       "      <td>reviewed</td>\n",
       "      <td>ushis</td>\n",
       "      <td>ell</td>\n",
       "    </tr>\n",
       "    <tr>\n",
       "      <th>4</th>\n",
       "      <td>1901-05-17T06:00:00.000Z</td>\n",
       "      <td>38.75</td>\n",
       "      <td>-83.00</td>\n",
       "      <td>NaN</td>\n",
       "      <td>4.20</td>\n",
       "      <td>fa</td>\n",
       "      <td>NaN</td>\n",
       "      <td>NaN</td>\n",
       "      <td>NaN</td>\n",
       "      <td>NaN</td>\n",
       "      <td>...</td>\n",
       "      <td>2018-06-04T20:43:44.000Z</td>\n",
       "      <td>2 km N of Portsmouth, Ohio</td>\n",
       "      <td>earthquake</td>\n",
       "      <td>NaN</td>\n",
       "      <td>NaN</td>\n",
       "      <td>NaN</td>\n",
       "      <td>NaN</td>\n",
       "      <td>reviewed</td>\n",
       "      <td>ushis</td>\n",
       "      <td>sc</td>\n",
       "    </tr>\n",
       "  </tbody>\n",
       "</table>\n",
       "<p>5 rows × 22 columns</p>\n",
       "</div>"
      ],
      "text/plain": [
       "                       time  latitude  longitude  depth   mag magType  nst  \\\n",
       "0  1900-04-09T14:00:00.000Z     41.40     -81.90    NaN  3.40      fa  NaN   \n",
       "1  1900-04-30T22:41:14.000Z     36.90    -121.60    NaN  4.50      ml  NaN   \n",
       "2  1900-10-09T12:25:00.000Z     57.09    -153.48    NaN  7.86      mw  NaN   \n",
       "3  1901-03-03T07:45:00.000Z     36.00    -120.50    NaN  6.40      ms  NaN   \n",
       "4  1901-05-17T06:00:00.000Z     38.75     -83.00    NaN  4.20      fa  NaN   \n",
       "\n",
       "   gap  dmin  rms  ...                   updated  \\\n",
       "0  NaN   NaN  NaN  ...  2018-06-04T20:43:44.000Z   \n",
       "1  NaN   NaN  NaN  ...  2018-06-04T20:43:44.000Z   \n",
       "2  NaN   NaN  NaN  ...  2022-05-09T14:44:17.838Z   \n",
       "3  NaN   NaN  NaN  ...  2018-06-04T20:43:44.000Z   \n",
       "4  NaN   NaN  NaN  ...  2018-06-04T20:43:44.000Z   \n",
       "\n",
       "                                place        type horizontalError depthError  \\\n",
       "0      2 km SE of North Olmsted, Ohio  earthquake             NaN        NaN   \n",
       "1      4 km ENE of Aromas, California  earthquake             NaN        NaN   \n",
       "2      16 km SW of Old Harbor, Alaska  earthquake             NaN        NaN   \n",
       "3  12 km NNW of Parkfield, California  earthquake             NaN        NaN   \n",
       "4          2 km N of Portsmouth, Ohio  earthquake             NaN        NaN   \n",
       "\n",
       "   magError  magNst    status  locationSource magSource  \n",
       "0       NaN     NaN  reviewed           ushis       bar  \n",
       "1       NaN     NaN  reviewed           ushis      cdmg  \n",
       "2       NaN     NaN  reviewed           ushis        pt  \n",
       "3       NaN     NaN  reviewed           ushis       ell  \n",
       "4       NaN     NaN  reviewed           ushis        sc  \n",
       "\n",
       "[5 rows x 22 columns]"
      ]
     },
     "execution_count": 2,
     "metadata": {},
     "output_type": "execute_result"
    }
   ],
   "source": [
    "import pandas as pd\n",
    "import numpy as np\n",
    "import matplotlib.pyplot as plt\n",
    "\n",
    "# Read the data\n",
    "df = pd.read_csv('data/earthquake.csv')\n",
    "df.head()"
   ]
  },
  {
   "cell_type": "code",
   "execution_count": 4,
   "metadata": {},
   "outputs": [
    {
     "data": {
      "text/plain": [
       "0    1900-04-09T14:00:00.000Z\n",
       "1    1900-04-30T22:41:14.000Z\n",
       "2    1900-10-09T12:25:00.000Z\n",
       "3    1901-03-03T07:45:00.000Z\n",
       "4    1901-05-17T06:00:00.000Z\n",
       "Name: time, dtype: object"
      ]
     },
     "execution_count": 4,
     "metadata": {},
     "output_type": "execute_result"
    }
   ],
   "source": [
    "time = df['time']\n",
    "time.head()"
   ]
  },
  {
   "cell_type": "code",
   "execution_count": 6,
   "metadata": {},
   "outputs": [
    {
     "data": {
      "text/plain": [
       "0   1900-04-09 14:00:00+00:00\n",
       "1   1900-04-30 22:41:14+00:00\n",
       "2   1900-10-09 12:25:00+00:00\n",
       "3   1901-03-03 07:45:00+00:00\n",
       "4   1901-05-17 06:00:00+00:00\n",
       "Name: time, dtype: datetime64[ns, UTC]"
      ]
     },
     "execution_count": 6,
     "metadata": {},
     "output_type": "execute_result"
    }
   ],
   "source": [
    "time = pd.to_datetime(time)\n",
    "time.head()"
   ]
  },
  {
   "cell_type": "code",
   "execution_count": 9,
   "metadata": {},
   "outputs": [
    {
     "data": {
      "image/png": "[encoded data removed]",
      "text/plain": [
       "<Figure size 640x480 with 1 Axes>"
      ]
     },
     "metadata": {},
     "output_type": "display_data"
    }
   ],
   "source": [
    "# count the number of earthquakes by month\n",
    "count = time.groupby(time.dt.month).count()\n",
    "count.head()\n",
    "\n",
    "# plot the number of earthquakes by month\n",
    "count.plot(kind='bar')\n",
    "plt.xlabel('Month')\n",
    "plt.ylabel('Frequency')\n",
    "plt.title('Earthquake Frequency by Month')\n",
    "plt.show()"
   ]
  }
 ],
 "metadata": {
  "kernelspec": {
   "display_name": "base",
   "language": "python",
   "name": "python3"
  },
  "language_info": {
   "codemirror_mode": {
    "name": "ipython",
    "version": 3
   },
   "file_extension": ".py",
   "mimetype": "text/x-python",
   "name": "python",
   "nbconvert_exporter": "python",
   "pygments_lexer": "ipython3",
   "version": "3.11.5"
  }
 },
 "nbformat": 4,
 "nbformat_minor": 2
}
